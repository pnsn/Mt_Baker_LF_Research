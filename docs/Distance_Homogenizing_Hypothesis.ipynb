{
 "cells": [
  {
   "cell_type": "code",
   "execution_count": null,
   "metadata": {},
   "outputs": [],
   "source": [
    "import matplotlib.pyplot as plt\n",
    "import numpy as np"
   ]
  },
  {
   "cell_type": "markdown",
   "metadata": {},
   "source": [
    "Based on observations of waveform characteristics from Baker-proximal stations (namely MBW and MBW2)\n",
    "compared to observations from distal stations, I'm left with the impresssion that characteristic information\n",
    "relevant to source type "
   ]
  }
 ],
 "metadata": {
  "language_info": {
   "name": "python"
  }
 },
 "nbformat": 4,
 "nbformat_minor": 2
}
