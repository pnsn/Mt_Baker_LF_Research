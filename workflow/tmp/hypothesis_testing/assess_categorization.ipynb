{
 "cells": [
  {
   "cell_type": "markdown",
   "metadata": {},
   "source": [
    "This notebook documents testing of the consistency of different event classification approaches for\n",
    "the PNSN seismic catalog around Mount Baker / Koma Kulshan. \n",
    "\n",
    "We use waveform templates "
   ]
  },
  {
   "cell_type": "code",
   "execution_count": 8,
   "metadata": {},
   "outputs": [
    {
     "name": "stdout",
     "output_type": "stream",
     "text": [
      "/Users/nates/Code/Mt_Baker_LF_Research\n"
     ]
    }
   ],
   "source": [
    "import pathlib\n",
    "\n",
    "import pandas as pd\n",
    "\n",
    "\n",
    "from eqcutil import ClusteringTribe\n",
    "\n",
    "ROOT = pathlib.Path().cwd().parent.parent\n",
    "PD_DIR = ROOT / \"processed_data\" / \"workflow\" \n"
   ]
  },
  {
   "cell_type": "markdown",
   "metadata": {},
   "source": []
  },
  {
   "cell_type": "code",
   "execution_count": null,
   "metadata": {},
   "outputs": [],
   "source": [
    "# Load Pre-Correlated Templates\n",
    "CTR = ClusteringTribe().read(str(PD_DIR / \"templates\" / \"MERGED_CLUSTERED.tgz\"))\n",
    "\n",
    "# Load"
   ]
  }
 ],
 "metadata": {
  "kernelspec": {
   "display_name": "eqcutil",
   "language": "python",
   "name": "python3"
  },
  "language_info": {
   "codemirror_mode": {
    "name": "ipython",
    "version": 3
   },
   "file_extension": ".py",
   "mimetype": "text/x-python",
   "name": "python",
   "nbconvert_exporter": "python",
   "pygments_lexer": "ipython3",
   "version": "3.10.15"
  }
 },
 "nbformat": 4,
 "nbformat_minor": 2
}
